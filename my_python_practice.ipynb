{
  "cells": [
    {
      "cell_type": "markdown",
      "metadata": {
        "id": "YbVfZ-jvRx_Z"
      },
      "source": [
        "\\\\\\\\\\\\\\\\\\Lec 01\\\\\\\\\\\\\\\\\\\\"
      ]
    },
    {
      "cell_type": "code",
      "execution_count": 2,
      "metadata": {
        "id": "wZRmbaDAhsIu"
      },
      "outputs": [],
      "source": [
        "import math\n",
        "\n"
      ]
    },
    {
      "cell_type": "code",
      "execution_count": 3,
      "metadata": {
        "id": "6Rcibc6kh_6Q",
        "colab": {
          "base_uri": "https://localhost:8080/"
        },
        "outputId": "e40c0284-b0ec-4d26-b33b-78d12382ead6"
      },
      "outputs": [
        {
          "output_type": "stream",
          "name": "stdout",
          "text": [
            "hello, world!\n"
          ]
        }
      ],
      "source": [
        "print(\"hello, world!\")"
      ]
    },
    {
      "cell_type": "code",
      "execution_count": null,
      "metadata": {
        "colab": {
          "base_uri": "https://localhost:8080/"
        },
        "id": "YLkluAPKh4m7",
        "outputId": "f039f98b-e73b-44c8-d8aa-d2e3f05e468f"
      },
      "outputs": [
        {
          "name": "stdout",
          "output_type": "stream",
          "text": [
            "The Zen of Python, by Tim Peters\n",
            "\n",
            "Beautiful is better than ugly.\n",
            "Explicit is better than implicit.\n",
            "Simple is better than complex.\n",
            "Complex is better than complicated.\n",
            "Flat is better than nested.\n",
            "Sparse is better than dense.\n",
            "Readability counts.\n",
            "Special cases aren't special enough to break the rules.\n",
            "Although practicality beats purity.\n",
            "Errors should never pass silently.\n",
            "Unless explicitly silenced.\n",
            "In the face of ambiguity, refuse the temptation to guess.\n",
            "There should be one-- and preferably only one --obvious way to do it.\n",
            "Although that way may not be obvious at first unless you're Dutch.\n",
            "Now is better than never.\n",
            "Although never is often better than *right* now.\n",
            "If the implementation is hard to explain, it's a bad idea.\n",
            "If the implementation is easy to explain, it may be a good idea.\n",
            "Namespaces are one honking great idea -- let's do more of those!\n"
          ]
        }
      ],
      "source": [
        "import this"
      ]
    },
    {
      "cell_type": "code",
      "execution_count": null,
      "metadata": {
        "colab": {
          "base_uri": "https://localhost:8080/",
          "height": 528
        },
        "id": "YAJ8Sro9rcU-",
        "outputId": "a5283955-bb9b-4361-b42f-6afb68ac99b7"
      },
      "outputs": [
        {
          "ename": "KeyboardInterrupt",
          "evalue": "ignored",
          "output_type": "error",
          "traceback": [
            "\u001b[0;31m---------------------------------------------------------------------------\u001b[0m",
            "\u001b[0;31mKeyboardInterrupt\u001b[0m                         Traceback (most recent call last)",
            "\u001b[0;32m/usr/local/lib/python3.7/dist-packages/ipykernel/kernelbase.py\u001b[0m in \u001b[0;36m_input_request\u001b[0;34m(self, prompt, ident, parent, password)\u001b[0m\n\u001b[1;32m    728\u001b[0m             \u001b[0;32mtry\u001b[0m\u001b[0;34m:\u001b[0m\u001b[0;34m\u001b[0m\u001b[0;34m\u001b[0m\u001b[0m\n\u001b[0;32m--> 729\u001b[0;31m                 \u001b[0mident\u001b[0m\u001b[0;34m,\u001b[0m \u001b[0mreply\u001b[0m \u001b[0;34m=\u001b[0m \u001b[0mself\u001b[0m\u001b[0;34m.\u001b[0m\u001b[0msession\u001b[0m\u001b[0;34m.\u001b[0m\u001b[0mrecv\u001b[0m\u001b[0;34m(\u001b[0m\u001b[0mself\u001b[0m\u001b[0;34m.\u001b[0m\u001b[0mstdin_socket\u001b[0m\u001b[0;34m,\u001b[0m \u001b[0;36m0\u001b[0m\u001b[0;34m)\u001b[0m\u001b[0;34m\u001b[0m\u001b[0;34m\u001b[0m\u001b[0m\n\u001b[0m\u001b[1;32m    730\u001b[0m             \u001b[0;32mexcept\u001b[0m \u001b[0mException\u001b[0m\u001b[0;34m:\u001b[0m\u001b[0;34m\u001b[0m\u001b[0;34m\u001b[0m\u001b[0m\n",
            "\u001b[0;32m/usr/local/lib/python3.7/dist-packages/jupyter_client/session.py\u001b[0m in \u001b[0;36mrecv\u001b[0;34m(self, socket, mode, content, copy)\u001b[0m\n\u001b[1;32m    802\u001b[0m         \u001b[0;32mtry\u001b[0m\u001b[0;34m:\u001b[0m\u001b[0;34m\u001b[0m\u001b[0;34m\u001b[0m\u001b[0m\n\u001b[0;32m--> 803\u001b[0;31m             \u001b[0mmsg_list\u001b[0m \u001b[0;34m=\u001b[0m \u001b[0msocket\u001b[0m\u001b[0;34m.\u001b[0m\u001b[0mrecv_multipart\u001b[0m\u001b[0;34m(\u001b[0m\u001b[0mmode\u001b[0m\u001b[0;34m,\u001b[0m \u001b[0mcopy\u001b[0m\u001b[0;34m=\u001b[0m\u001b[0mcopy\u001b[0m\u001b[0;34m)\u001b[0m\u001b[0;34m\u001b[0m\u001b[0;34m\u001b[0m\u001b[0m\n\u001b[0m\u001b[1;32m    804\u001b[0m         \u001b[0;32mexcept\u001b[0m \u001b[0mzmq\u001b[0m\u001b[0;34m.\u001b[0m\u001b[0mZMQError\u001b[0m \u001b[0;32mas\u001b[0m \u001b[0me\u001b[0m\u001b[0;34m:\u001b[0m\u001b[0;34m\u001b[0m\u001b[0;34m\u001b[0m\u001b[0m\n",
            "\u001b[0;32m/usr/local/lib/python3.7/dist-packages/zmq/sugar/socket.py\u001b[0m in \u001b[0;36mrecv_multipart\u001b[0;34m(self, flags, copy, track)\u001b[0m\n\u001b[1;32m    726\u001b[0m         \"\"\"\n\u001b[0;32m--> 727\u001b[0;31m         \u001b[0mparts\u001b[0m \u001b[0;34m=\u001b[0m \u001b[0;34m[\u001b[0m\u001b[0mself\u001b[0m\u001b[0;34m.\u001b[0m\u001b[0mrecv\u001b[0m\u001b[0;34m(\u001b[0m\u001b[0mflags\u001b[0m\u001b[0;34m,\u001b[0m \u001b[0mcopy\u001b[0m\u001b[0;34m=\u001b[0m\u001b[0mcopy\u001b[0m\u001b[0;34m,\u001b[0m \u001b[0mtrack\u001b[0m\u001b[0;34m=\u001b[0m\u001b[0mtrack\u001b[0m\u001b[0;34m)\u001b[0m\u001b[0;34m]\u001b[0m\u001b[0;34m\u001b[0m\u001b[0;34m\u001b[0m\u001b[0m\n\u001b[0m\u001b[1;32m    728\u001b[0m         \u001b[0;31m# have first part already, only loop while more to receive\u001b[0m\u001b[0;34m\u001b[0m\u001b[0;34m\u001b[0m\u001b[0;34m\u001b[0m\u001b[0m\n",
            "\u001b[0;32mzmq/backend/cython/socket.pyx\u001b[0m in \u001b[0;36mzmq.backend.cython.socket.Socket.recv\u001b[0;34m()\u001b[0m\n",
            "\u001b[0;32mzmq/backend/cython/socket.pyx\u001b[0m in \u001b[0;36mzmq.backend.cython.socket.Socket.recv\u001b[0;34m()\u001b[0m\n",
            "\u001b[0;32mzmq/backend/cython/socket.pyx\u001b[0m in \u001b[0;36mzmq.backend.cython.socket._recv_copy\u001b[0;34m()\u001b[0m\n",
            "\u001b[0;32m/usr/local/lib/python3.7/dist-packages/zmq/backend/cython/checkrc.pxd\u001b[0m in \u001b[0;36mzmq.backend.cython.checkrc._check_rc\u001b[0;34m()\u001b[0m\n",
            "\u001b[0;31mKeyboardInterrupt\u001b[0m: ",
            "\nDuring handling of the above exception, another exception occurred:\n",
            "\u001b[0;31mKeyboardInterrupt\u001b[0m                         Traceback (most recent call last)",
            "\u001b[0;32m<ipython-input-80-7db4bdd23d71>\u001b[0m in \u001b[0;36m<module>\u001b[0;34m()\u001b[0m\n\u001b[0;32m----> 1\u001b[0;31m \u001b[0ms\u001b[0m\u001b[0;34m=\u001b[0m\u001b[0minput\u001b[0m\u001b[0;34m(\u001b[0m\u001b[0;34m)\u001b[0m\u001b[0;34m\u001b[0m\u001b[0;34m\u001b[0m\u001b[0m\n\u001b[0m",
            "\u001b[0;32m/usr/local/lib/python3.7/dist-packages/ipykernel/kernelbase.py\u001b[0m in \u001b[0;36mraw_input\u001b[0;34m(self, prompt)\u001b[0m\n\u001b[1;32m    702\u001b[0m             \u001b[0mself\u001b[0m\u001b[0;34m.\u001b[0m\u001b[0m_parent_ident\u001b[0m\u001b[0;34m,\u001b[0m\u001b[0;34m\u001b[0m\u001b[0;34m\u001b[0m\u001b[0m\n\u001b[1;32m    703\u001b[0m             \u001b[0mself\u001b[0m\u001b[0;34m.\u001b[0m\u001b[0m_parent_header\u001b[0m\u001b[0;34m,\u001b[0m\u001b[0;34m\u001b[0m\u001b[0;34m\u001b[0m\u001b[0m\n\u001b[0;32m--> 704\u001b[0;31m             \u001b[0mpassword\u001b[0m\u001b[0;34m=\u001b[0m\u001b[0;32mFalse\u001b[0m\u001b[0;34m,\u001b[0m\u001b[0;34m\u001b[0m\u001b[0;34m\u001b[0m\u001b[0m\n\u001b[0m\u001b[1;32m    705\u001b[0m         )\n\u001b[1;32m    706\u001b[0m \u001b[0;34m\u001b[0m\u001b[0m\n",
            "\u001b[0;32m/usr/local/lib/python3.7/dist-packages/ipykernel/kernelbase.py\u001b[0m in \u001b[0;36m_input_request\u001b[0;34m(self, prompt, ident, parent, password)\u001b[0m\n\u001b[1;32m    732\u001b[0m             \u001b[0;32mexcept\u001b[0m \u001b[0mKeyboardInterrupt\u001b[0m\u001b[0;34m:\u001b[0m\u001b[0;34m\u001b[0m\u001b[0;34m\u001b[0m\u001b[0m\n\u001b[1;32m    733\u001b[0m                 \u001b[0;31m# re-raise KeyboardInterrupt, to truncate traceback\u001b[0m\u001b[0;34m\u001b[0m\u001b[0;34m\u001b[0m\u001b[0;34m\u001b[0m\u001b[0m\n\u001b[0;32m--> 734\u001b[0;31m                 \u001b[0;32mraise\u001b[0m \u001b[0mKeyboardInterrupt\u001b[0m\u001b[0;34m\u001b[0m\u001b[0;34m\u001b[0m\u001b[0m\n\u001b[0m\u001b[1;32m    735\u001b[0m             \u001b[0;32melse\u001b[0m\u001b[0;34m:\u001b[0m\u001b[0;34m\u001b[0m\u001b[0;34m\u001b[0m\u001b[0m\n\u001b[1;32m    736\u001b[0m                 \u001b[0;32mbreak\u001b[0m\u001b[0;34m\u001b[0m\u001b[0;34m\u001b[0m\u001b[0m\n",
            "\u001b[0;31mKeyboardInterrupt\u001b[0m: "
          ]
        }
      ],
      "source": [
        "s=input()"
      ]
    },
    {
      "cell_type": "code",
      "execution_count": 8,
      "metadata": {
        "id": "rAa48RnvpiUw",
        "colab": {
          "base_uri": "https://localhost:8080/"
        },
        "outputId": "3f8097bf-fd24-470e-a1bf-0638a5b6618d"
      },
      "outputs": [
        {
          "name": "stdout",
          "output_type": "stream",
          "text": [
            "hellovinita\n"
          ]
        }
      ],
      "source": [
        "x=input(\"hello\")\n"
      ]
    },
    {
      "cell_type": "code",
      "execution_count": null,
      "metadata": {
        "colab": {
          "base_uri": "https://localhost:8080/",
          "height": 35
        },
        "id": "f9vBlThcsbMx",
        "outputId": "9f50c18f-3417-4149-bcda-e82681d106b3"
      },
      "outputs": [
        {
          "data": {
            "application/vnd.google.colaboratory.intrinsic+json": {
              "type": "string"
            },
            "text/plain": [
              "'\"vinita\"'"
            ]
          },
          "execution_count": 9,
          "metadata": {},
          "output_type": "execute_result"
        }
      ],
      "source": [
        "s"
      ]
    },
    {
      "cell_type": "code",
      "execution_count": null,
      "metadata": {
        "colab": {
          "base_uri": "https://localhost:8080/"
        },
        "id": "q5QbEIBksgwW",
        "outputId": "b0fe2ad3-0299-48da-b6d5-e4ea4c48e056"
      },
      "outputs": [
        {
          "name": "stdout",
          "output_type": "stream",
          "text": [
            "\"Alok\"\n"
          ]
        }
      ],
      "source": [
        "x=input()"
      ]
    },
    {
      "cell_type": "code",
      "execution_count": 9,
      "metadata": {
        "colab": {
          "base_uri": "https://localhost:8080/",
          "height": 35
        },
        "id": "6aJoHJ_gsrIP",
        "outputId": "4bde4f49-ef0b-4713-b377-ce7dc7fadaf7"
      },
      "outputs": [
        {
          "output_type": "execute_result",
          "data": {
            "text/plain": [
              "'vinita'"
            ],
            "application/vnd.google.colaboratory.intrinsic+json": {
              "type": "string"
            }
          },
          "metadata": {},
          "execution_count": 9
        }
      ],
      "source": [
        "x"
      ]
    },
    {
      "cell_type": "code",
      "execution_count": 11,
      "metadata": {
        "colab": {
          "base_uri": "https://localhost:8080/"
        },
        "id": "dHochfkwsxKs",
        "outputId": "e9304441-3c28-4173-8a3c-75fbec1d659f"
      },
      "outputs": [
        {
          "name": "stdout",
          "output_type": "stream",
          "text": [
            "\"Life is what happens when you’re busy making other plans\"\n"
          ]
        }
      ],
      "source": [
        "Quotes=input()"
      ]
    },
    {
      "cell_type": "code",
      "execution_count": 12,
      "metadata": {
        "colab": {
          "base_uri": "https://localhost:8080/",
          "height": 35
        },
        "id": "qp2kekHutWC9",
        "outputId": "2bc60a74-ac18-4fc9-de0f-e5826831b54e"
      },
      "outputs": [
        {
          "output_type": "execute_result",
          "data": {
            "text/plain": [
              "'\"Life is what happens when you’re busy making other plans\"'"
            ],
            "application/vnd.google.colaboratory.intrinsic+json": {
              "type": "string"
            }
          },
          "metadata": {},
          "execution_count": 12
        }
      ],
      "source": [
        "Quotes"
      ]
    },
    {
      "cell_type": "code",
      "execution_count": 17,
      "metadata": {
        "colab": {
          "base_uri": "https://localhost:8080/"
        },
        "id": "6WW-m-uLvKsp",
        "outputId": "b625146d-63f5-448b-e781-56f63c540b67"
      },
      "outputs": [
        {
          "output_type": "stream",
          "name": "stdout",
          "text": [
            "ani\n",
            "ani\n"
          ]
        }
      ],
      "source": [
        "y=input()\n",
        "print(y)"
      ]
    },
    {
      "cell_type": "code",
      "execution_count": 18,
      "metadata": {
        "colab": {
          "base_uri": "https://localhost:8080/"
        },
        "id": "TpOmJelJujda",
        "outputId": "ccd54f79-152a-469e-dd45-4102a4073d4c"
      },
      "outputs": [
        {
          "output_type": "stream",
          "name": "stdout",
          "text": [
            "vinita\n"
          ]
        }
      ],
      "source": [
        "print(x)"
      ]
    },
    {
      "cell_type": "code",
      "execution_count": 19,
      "metadata": {
        "colab": {
          "base_uri": "https://localhost:8080/",
          "height": 35
        },
        "id": "osZYHGT2u2z0",
        "outputId": "0ca58a06-6d13-4a3c-f256-7c48e3f5728d"
      },
      "outputs": [
        {
          "output_type": "execute_result",
          "data": {
            "text/plain": [
              "'vinita'"
            ],
            "application/vnd.google.colaboratory.intrinsic+json": {
              "type": "string"
            }
          },
          "metadata": {},
          "execution_count": 19
        }
      ],
      "source": [
        "x"
      ]
    },
    {
      "cell_type": "code",
      "execution_count": 20,
      "metadata": {
        "colab": {
          "base_uri": "https://localhost:8080/",
          "height": 35
        },
        "id": "L2bjPgeEvoqk",
        "outputId": "852cf7c6-eed0-4f02-e1c7-60bee874942b"
      },
      "outputs": [
        {
          "output_type": "execute_result",
          "data": {
            "text/plain": [
              "'vinita'"
            ],
            "application/vnd.google.colaboratory.intrinsic+json": {
              "type": "string"
            }
          },
          "metadata": {},
          "execution_count": 20
        }
      ],
      "source": [
        "x"
      ]
    },
    {
      "cell_type": "code",
      "execution_count": 21,
      "metadata": {
        "colab": {
          "base_uri": "https://localhost:8080/",
          "height": 35
        },
        "id": "lZ8vAAKivvgz",
        "outputId": "4ca7a604-4542-425f-adf7-c4ade3e90c86"
      },
      "outputs": [
        {
          "output_type": "execute_result",
          "data": {
            "text/plain": [
              "'vinita'"
            ],
            "application/vnd.google.colaboratory.intrinsic+json": {
              "type": "string"
            }
          },
          "metadata": {},
          "execution_count": 21
        }
      ],
      "source": [
        "x"
      ]
    },
    {
      "cell_type": "code",
      "execution_count": 22,
      "metadata": {
        "colab": {
          "base_uri": "https://localhost:8080/"
        },
        "id": "VOnbC8zFGzA6",
        "outputId": "d7c9e1a8-be16-42bd-92d3-e401d84c4dca"
      },
      "outputs": [
        {
          "output_type": "stream",
          "name": "stdout",
          "text": [
            "What is your name? vini\n",
            "Hello vini\n"
          ]
        }
      ],
      "source": [
        "Name =  input(\"What is your name? \")\n",
        "print(\"Hello\", Name)"
      ]
    },
    {
      "cell_type": "code",
      "execution_count": null,
      "metadata": {
        "colab": {
          "base_uri": "https://localhost:8080/",
          "height": 52
        },
        "id": "dmGZ8kTtMKKo",
        "outputId": "1bee6746-0a18-47db-b360-dfdc967d1467"
      },
      "outputs": [
        {
          "name": "stdout",
          "output_type": "stream",
          "text": [
            "2=2\n"
          ]
        },
        {
          "data": {
            "application/vnd.google.colaboratory.intrinsic+json": {
              "type": "string"
            },
            "text/plain": [
              "'=2'"
            ]
          },
          "execution_count": 78,
          "metadata": {},
          "output_type": "execute_result"
        }
      ],
      "source": [
        "x=input(2)\n",
        "x"
      ]
    },
    {
      "cell_type": "code",
      "execution_count": null,
      "metadata": {
        "colab": {
          "base_uri": "https://localhost:8080/"
        },
        "id": "vlIo1hE4JLXq",
        "outputId": "24f04a17-ceef-40ec-8a24-478e56d7a15b"
      },
      "outputs": [
        {
          "name": "stdout",
          "output_type": "stream",
          "text": [
            "what is your name?vini\n"
          ]
        }
      ],
      "source": [
        "Name = input(\"what is your name?\")"
      ]
    },
    {
      "cell_type": "code",
      "execution_count": null,
      "metadata": {
        "colab": {
          "base_uri": "https://localhost:8080/",
          "height": 35
        },
        "id": "aCq7fPT6JlLv",
        "outputId": "4ee1f0e2-9479-48ef-b3f0-ba7699548a92"
      },
      "outputs": [
        {
          "data": {
            "application/vnd.google.colaboratory.intrinsic+json": {
              "type": "string"
            },
            "text/plain": [
              "'vini'"
            ]
          },
          "execution_count": 39,
          "metadata": {},
          "output_type": "execute_result"
        }
      ],
      "source": [
        "Name"
      ]
    },
    {
      "cell_type": "code",
      "execution_count": null,
      "metadata": {
        "colab": {
          "base_uri": "https://localhost:8080/"
        },
        "id": "PPdKF1QsJo5f",
        "outputId": "6047dddc-2815-4c4b-b0b7-fc233a252d14"
      },
      "outputs": [
        {
          "name": "stdout",
          "output_type": "stream",
          "text": [
            "What is your name?vini\n",
            "hello VINI\n",
            "how old are you?30\n",
            "you are 30 years old\n"
          ]
        }
      ],
      "source": [
        "Name = input(\"What is your name?\")\n",
        "print(\"hello\",Name.upper())\n",
        "Age = input(\"how old are you?\")\n",
        "print(\"you are\", Age,\"years old\")"
      ]
    },
    {
      "cell_type": "code",
      "execution_count": null,
      "metadata": {
        "colab": {
          "base_uri": "https://localhost:8080/",
          "height": 35
        },
        "id": "1H8FoudsMJ8n",
        "outputId": "e1a9bbc5-ccb9-44f9-aa55-e451b8c255aa"
      },
      "outputs": [
        {
          "data": {
            "application/vnd.google.colaboratory.intrinsic+json": {
              "type": "string"
            },
            "text/plain": [
              "'VINITA'"
            ]
          },
          "execution_count": 46,
          "metadata": {},
          "output_type": "execute_result"
        }
      ],
      "source": [
        "\"vinita\".upper()"
      ]
    },
    {
      "cell_type": "code",
      "execution_count": null,
      "metadata": {
        "colab": {
          "base_uri": "https://localhost:8080/"
        },
        "id": "4mPjlmx2MnVx",
        "outputId": "6015fa25-3533-499c-911a-2ec6b587220a"
      },
      "outputs": [
        {
          "data": {
            "text/plain": [
              "True"
            ]
          },
          "execution_count": 48,
          "metadata": {},
          "output_type": "execute_result"
        }
      ],
      "source": [
        "\"300\".isdecimal()"
      ]
    },
    {
      "cell_type": "code",
      "execution_count": null,
      "metadata": {
        "colab": {
          "base_uri": "https://localhost:8080/",
          "height": 35
        },
        "id": "aa8qOQpmNVcr",
        "outputId": "b8170bd9-5464-4b14-f3f1-bbd9a7c345d0"
      },
      "outputs": [
        {
          "data": {
            "application/vnd.google.colaboratory.intrinsic+json": {
              "type": "string"
            },
            "text/plain": [
              "'Anita'"
            ]
          },
          "execution_count": 49,
          "metadata": {},
          "output_type": "execute_result"
        }
      ],
      "source": [
        "Name = \"Vinita\"\n",
        "Name.replace(\"Vi\",\"A\")"
      ]
    },
    {
      "cell_type": "code",
      "execution_count": null,
      "metadata": {
        "colab": {
          "base_uri": "https://localhost:8080/"
        },
        "id": "wTwxaI2jOQE8",
        "outputId": "8cc90f9b-d559-4de3-93b8-dfad331c303f"
      },
      "outputs": [
        {
          "name": "stdout",
          "output_type": "stream",
          "text": [
            "vinita\n",
            "& Alok\n"
          ]
        }
      ],
      "source": [
        "print(\"vinita\")\n",
        "print(\"& Alok\")"
      ]
    },
    {
      "cell_type": "code",
      "execution_count": null,
      "metadata": {
        "colab": {
          "base_uri": "https://localhost:8080/"
        },
        "id": "hxr4T0QkOicA",
        "outputId": "0049d428-9c37-411e-a817-ec7ab1ec6dc0"
      },
      "outputs": [
        {
          "name": "stdout",
          "output_type": "stream",
          "text": [
            "vinita & Alok\n"
          ]
        }
      ],
      "source": [
        "print(\"vinita\",end=\" \")\n",
        "print(\"& Alok\")"
      ]
    },
    {
      "cell_type": "code",
      "execution_count": null,
      "metadata": {
        "id": "tpqP_QzqP6wq"
      },
      "outputs": [],
      "source": []
    },
    {
      "cell_type": "markdown",
      "metadata": {
        "id": "TUx6yARpP9Bp"
      },
      "source": [
        "\\\\Project 1\\\\"
      ]
    },
    {
      "cell_type": "code",
      "execution_count": 23,
      "metadata": {
        "colab": {
          "base_uri": "https://localhost:8080/"
        },
        "id": "fC8Ng_jTQE92",
        "outputId": "2bcddaef-daaa-42a8-d5fc-af0e64756b00"
      },
      "outputs": [
        {
          "output_type": "stream",
          "name": "stdout",
          "text": [
            "hello,world!\n",
            "what is user name?vini\n",
            "hello VINI\n"
          ]
        }
      ],
      "source": [
        "print(\"hello,world!\")\n",
        "Name=input(\"what is user name?\")\n",
        "print(\"hello\", Name.upper())"
      ]
    },
    {
      "cell_type": "markdown",
      "metadata": {
        "id": "7CDWNF_QsUJH"
      },
      "source": [
        "\\\\\\\\\\\\\\Lec02\\\\\\\\\\\\\\\\"
      ]
    },
    {
      "cell_type": "code",
      "execution_count": null,
      "metadata": {
        "colab": {
          "base_uri": "https://localhost:8080/"
        },
        "id": "n5U0ofTysehs",
        "outputId": "f018a2b7-1772-49a1-cf68-fda5600dab5b"
      },
      "outputs": [
        {
          "data": {
            "text/plain": [
              "(int, int, float, float)"
            ]
          },
          "execution_count": 23,
          "metadata": {},
          "output_type": "execute_result"
        }
      ],
      "source": [
        "a= 2\n",
        "b= 5\n",
        "c=2.10\n",
        "d=5.21\n",
        "type(a),type(b),type(c),type(d)\n"
      ]
    },
    {
      "cell_type": "code",
      "execution_count": null,
      "metadata": {
        "colab": {
          "base_uri": "https://localhost:8080/"
        },
        "id": "YtxnuJuOs6lg",
        "outputId": "4959ee27-46c6-427e-b5b3-dc1c596d11c6"
      },
      "outputs": [
        {
          "name": "stdout",
          "output_type": "stream",
          "text": [
            "7\n"
          ]
        },
        {
          "data": {
            "text/plain": [
              "int"
            ]
          },
          "execution_count": 61,
          "metadata": {},
          "output_type": "execute_result"
        }
      ],
      "source": [
        "x=a+b\n",
        "print(x)\n",
        "type(x)"
      ]
    },
    {
      "cell_type": "code",
      "execution_count": null,
      "metadata": {
        "colab": {
          "base_uri": "https://localhost:8080/"
        },
        "id": "vGHguejstPzK",
        "outputId": "8c2a7972-6fe6-4e27-8047-b1e84329edd6"
      },
      "outputs": [
        {
          "name": "stdout",
          "output_type": "stream",
          "text": [
            "7.300000000000001\n"
          ]
        },
        {
          "data": {
            "text/plain": [
              "7.3"
            ]
          },
          "execution_count": 15,
          "metadata": {},
          "output_type": "execute_result"
        }
      ],
      "source": [
        "type(c+d)\n",
        "print(c+d)\n",
        "round(c+d,2)"
      ]
    },
    {
      "cell_type": "code",
      "execution_count": null,
      "metadata": {
        "colab": {
          "base_uri": "https://localhost:8080/"
        },
        "id": "Ljwe4aQbCPCo",
        "outputId": "023b37eb-bb0a-4fcb-fd00-9c00c0921809"
      },
      "outputs": [
        {
          "data": {
            "text/plain": [
              "16"
            ]
          },
          "execution_count": 1,
          "metadata": {},
          "output_type": "execute_result"
        }
      ],
      "source": [
        "pow(4,2)"
      ]
    },
    {
      "cell_type": "code",
      "execution_count": null,
      "metadata": {
        "colab": {
          "base_uri": "https://localhost:8080/"
        },
        "id": "jiWAue6qCeeS",
        "outputId": "8f872947-3ffa-46f8-f50a-c37e8c606c6b"
      },
      "outputs": [
        {
          "data": {
            "text/plain": [
              "16"
            ]
          },
          "execution_count": 6,
          "metadata": {},
          "output_type": "execute_result"
        }
      ],
      "source": [
        "2**4"
      ]
    },
    {
      "cell_type": "code",
      "execution_count": null,
      "metadata": {
        "colab": {
          "base_uri": "https://localhost:8080/"
        },
        "id": "6P4oeKF_DqQ-",
        "outputId": "d85b8607-eee6-4e59-f33c-8370cbf7b8cd"
      },
      "outputs": [
        {
          "data": {
            "text/plain": [
              "1.46"
            ]
          },
          "execution_count": 7,
          "metadata": {},
          "output_type": "execute_result"
        }
      ],
      "source": [
        "f=1.45672345\n",
        "round(f,2)"
      ]
    },
    {
      "cell_type": "code",
      "execution_count": 27,
      "metadata": {
        "colab": {
          "base_uri": "https://localhost:8080/"
        },
        "id": "I_xSLMLYDYKv",
        "outputId": "b67680ed-f4b3-4510-b581-293fbaf6f3dd"
      },
      "outputs": [
        {
          "output_type": "stream",
          "name": "stdout",
          "text": [
            "hi\n"
          ]
        },
        {
          "output_type": "execute_result",
          "data": {
            "text/plain": [
              "(str, str)"
            ]
          },
          "metadata": {},
          "execution_count": 27
        }
      ],
      "source": [
        "s=\"hi\"\n",
        "s1=\"hello\"\n",
        "print(s)\n",
        "type(s),type(s+s1)"
      ]
    },
    {
      "cell_type": "code",
      "execution_count": 28,
      "metadata": {
        "colab": {
          "base_uri": "https://localhost:8080/"
        },
        "id": "DDmeCNi6FkIp",
        "outputId": "e3d979d0-5a85-4233-8204-ca70a5efa7b5"
      },
      "outputs": [
        {
          "output_type": "execute_result",
          "data": {
            "text/plain": [
              "5"
            ]
          },
          "metadata": {},
          "execution_count": 28
        }
      ],
      "source": [
        "abs(-1)\n",
        "abs(-5)"
      ]
    },
    {
      "cell_type": "code",
      "execution_count": 29,
      "metadata": {
        "colab": {
          "base_uri": "https://localhost:8080/"
        },
        "id": "5_ua02i8OCPV",
        "outputId": "2970918a-b6b5-49a1-fcf2-43e73f33d7b0"
      },
      "outputs": [
        {
          "output_type": "execute_result",
          "data": {
            "text/plain": [
              "5.38"
            ]
          },
          "metadata": {},
          "execution_count": 29
        }
      ],
      "source": [
        "round(5.3782,2)"
      ]
    },
    {
      "cell_type": "code",
      "execution_count": 30,
      "metadata": {
        "colab": {
          "base_uri": "https://localhost:8080/"
        },
        "id": "YGSVpq63OkX2",
        "outputId": "f28520aa-089a-4d4d-f7f7-2e7a0ac43b3f"
      },
      "outputs": [
        {
          "output_type": "execute_result",
          "data": {
            "text/plain": [
              "(6, 4)"
            ]
          },
          "metadata": {},
          "execution_count": 30
        }
      ],
      "source": [
        "2*3,2*2"
      ]
    },
    {
      "cell_type": "code",
      "execution_count": 31,
      "metadata": {
        "colab": {
          "base_uri": "https://localhost:8080/"
        },
        "id": "W691K43GPG_f",
        "outputId": "6cc1f196-e3c9-4c7f-835e-c0b438f3ff83"
      },
      "outputs": [
        {
          "output_type": "execute_result",
          "data": {
            "text/plain": [
              "8"
            ]
          },
          "metadata": {},
          "execution_count": 31
        }
      ],
      "source": [
        "pow(2,3)"
      ]
    },
    {
      "cell_type": "code",
      "execution_count": 32,
      "metadata": {
        "colab": {
          "base_uri": "https://localhost:8080/"
        },
        "id": "xwnZo4k8PKTJ",
        "outputId": "8b58ebdc-6a69-4cb3-99f7-85cd97c79d92"
      },
      "outputs": [
        {
          "output_type": "execute_result",
          "data": {
            "text/plain": [
              "16"
            ]
          },
          "metadata": {},
          "execution_count": 32
        }
      ],
      "source": [
        "pow(2,4)"
      ]
    },
    {
      "cell_type": "code",
      "execution_count": 33,
      "metadata": {
        "colab": {
          "base_uri": "https://localhost:8080/",
          "height": 165
        },
        "id": "5S1396XbPQGc",
        "outputId": "a25bcbf0-fe04-443d-e38b-20568af0312f"
      },
      "outputs": [
        {
          "output_type": "error",
          "ename": "TypeError",
          "evalue": "ignored",
          "traceback": [
            "\u001b[0;31m---------------------------------------------------------------------------\u001b[0m",
            "\u001b[0;31mTypeError\u001b[0m                                 Traceback (most recent call last)",
            "\u001b[0;32m<ipython-input-33-b4ccbdcd91b0>\u001b[0m in \u001b[0;36m<module>\u001b[0;34m\u001b[0m\n\u001b[0;32m----> 1\u001b[0;31m \u001b[0ms1\u001b[0m\u001b[0;34m+\u001b[0m\u001b[0;36m1\u001b[0m\u001b[0;34m\u001b[0m\u001b[0;34m\u001b[0m\u001b[0m\n\u001b[0m",
            "\u001b[0;31mTypeError\u001b[0m: can only concatenate str (not \"int\") to str"
          ]
        }
      ],
      "source": [
        "s1+1"
      ]
    },
    {
      "cell_type": "code",
      "execution_count": 25,
      "metadata": {
        "id": "CyTOMHsJmup3",
        "colab": {
          "base_uri": "https://localhost:8080/",
          "height": 373
        },
        "outputId": "c558f1f3-f66b-494d-a41e-d28c857e5e2c"
      },
      "outputs": [
        {
          "output_type": "error",
          "ename": "ModuleNotFoundError",
          "evalue": "ignored",
          "traceback": [
            "\u001b[0;31m---------------------------------------------------------------------------\u001b[0m",
            "\u001b[0;31mModuleNotFoundError\u001b[0m                       Traceback (most recent call last)",
            "\u001b[0;32m<ipython-input-25-fe29509167b1>\u001b[0m in \u001b[0;36m<module>\u001b[0;34m\u001b[0m\n\u001b[0;32m----> 1\u001b[0;31m \u001b[0;32mfrom\u001b[0m \u001b[0m_typeshed\u001b[0m \u001b[0;32mimport\u001b[0m \u001b[0mHasFileno\u001b[0m\u001b[0;34m\u001b[0m\u001b[0;34m\u001b[0m\u001b[0m\n\u001b[0m\u001b[1;32m      2\u001b[0m \u001b[0ma\u001b[0m\u001b[0;34m=\u001b[0m\u001b[0;36m1\u001b[0m\u001b[0;34m\u001b[0m\u001b[0;34m\u001b[0m\u001b[0m\n\u001b[1;32m      3\u001b[0m \u001b[0mprint\u001b[0m\u001b[0;34m(\u001b[0m\u001b[0;34mf\"i am vinita and i am {2+2}y old\"\u001b[0m\u001b[0;34m)\u001b[0m\u001b[0;34m\u001b[0m\u001b[0;34m\u001b[0m\u001b[0m\n\u001b[1;32m      4\u001b[0m \u001b[0mprint\u001b[0m\u001b[0;34m(\u001b[0m\u001b[0;34m\"i am {a}yr old\"\u001b[0m\u001b[0;34m)\u001b[0m\u001b[0;34m\u001b[0m\u001b[0;34m\u001b[0m\u001b[0m\n\u001b[1;32m      5\u001b[0m \u001b[0mprint\u001b[0m\u001b[0;34m(\u001b[0m\u001b[0;34m\"i am a+1 yr old\"\u001b[0m\u001b[0;34m)\u001b[0m\u001b[0;34m\u001b[0m\u001b[0;34m\u001b[0m\u001b[0m\n",
            "\u001b[0;31mModuleNotFoundError\u001b[0m: No module named '_typeshed'",
            "",
            "\u001b[0;31m---------------------------------------------------------------------------\u001b[0;32m\nNOTE: If your import is failing due to a missing package, you can\nmanually install dependencies using either !pip or !apt.\n\nTo view examples of installing some common dependencies, click the\n\"Open Examples\" button below.\n\u001b[0;31m---------------------------------------------------------------------------\u001b[0m\n"
          ],
          "errorDetails": {
            "actions": [
              {
                "action": "open_url",
                "actionText": "Open Examples",
                "url": "/notebooks/snippets/importing_libraries.ipynb"
              }
            ]
          }
        }
      ],
      "source": [
        "from _typeshed import HasFileno\n",
        "a=1\n",
        "print(f\"i am vinita and i am {2+2}y old\")\n",
        "print(\"i am {a}yr old\")\n",
        "print(\"i am a+1 yr old\")\n",
        "a+1\n",
        "s=Hii\n",
        "print(s+1)"
      ]
    },
    {
      "cell_type": "code",
      "execution_count": 37,
      "metadata": {
        "colab": {
          "base_uri": "https://localhost:8080/"
        },
        "id": "0Ni7Y-OZontz",
        "outputId": "929262eb-e101-4169-c536-f5527a3069ed"
      },
      "outputs": [
        {
          "output_type": "stream",
          "name": "stdout",
          "text": [
            "s\n"
          ]
        }
      ],
      "source": [
        "s=hii\n",
        "print(\"s\")"
      ]
    },
    {
      "cell_type": "code",
      "execution_count": 36,
      "metadata": {
        "colab": {
          "base_uri": "https://localhost:8080/"
        },
        "id": "wwYKjyy-umEy",
        "outputId": "15a5c07b-1524-458d-86fe-e18457305731"
      },
      "outputs": [
        {
          "output_type": "stream",
          "name": "stdout",
          "text": [
            "hii\n"
          ]
        }
      ],
      "source": [
        "s=\"hii\"\n",
        "print(s)"
      ]
    },
    {
      "cell_type": "code",
      "execution_count": 38,
      "metadata": {
        "colab": {
          "base_uri": "https://localhost:8080/"
        },
        "id": "4FB1QX3E20SP",
        "outputId": "a5b4b79e-4030-4fb8-c240-61bc6be0e331"
      },
      "outputs": [
        {
          "output_type": "execute_result",
          "data": {
            "text/plain": [
              "True"
            ]
          },
          "metadata": {},
          "execution_count": 38
        }
      ],
      "source": [
        "True"
      ]
    },
    {
      "cell_type": "code",
      "execution_count": null,
      "metadata": {
        "id": "TUpTyTL024T8"
      },
      "outputs": [],
      "source": [
        "false"
      ]
    },
    {
      "cell_type": "code",
      "execution_count": null,
      "metadata": {
        "colab": {
          "base_uri": "https://localhost:8080/"
        },
        "id": "k296aENI8Wtp",
        "outputId": "ec67dfa4-6405-4985-a85c-d114630965aa"
      },
      "outputs": [
        {
          "data": {
            "text/plain": [
              "False"
            ]
          },
          "execution_count": 52,
          "metadata": {},
          "output_type": "execute_result"
        }
      ],
      "source": [
        "False"
      ]
    },
    {
      "cell_type": "code",
      "execution_count": null,
      "metadata": {
        "id": "i0o2KjOY8Z1g"
      },
      "outputs": [],
      "source": [
        "a=True"
      ]
    },
    {
      "cell_type": "code",
      "execution_count": 39,
      "metadata": {
        "colab": {
          "base_uri": "https://localhost:8080/"
        },
        "id": "aE81IRC38y-l",
        "outputId": "1c45783f-11e9-4c24-b3bf-e03029aa23ae"
      },
      "outputs": [
        {
          "output_type": "execute_result",
          "data": {
            "text/plain": [
              "True"
            ]
          },
          "metadata": {},
          "execution_count": 39
        }
      ],
      "source": [
        "a=10>5\n",
        "a"
      ]
    },
    {
      "cell_type": "code",
      "execution_count": null,
      "metadata": {
        "colab": {
          "base_uri": "https://localhost:8080/"
        },
        "id": "QjanePCZ9LJD",
        "outputId": "5812da78-43d8-4cc3-e4ac-25ad3e334b19"
      },
      "outputs": [
        {
          "data": {
            "text/plain": [
              "True"
            ]
          },
          "execution_count": 61,
          "metadata": {},
          "output_type": "execute_result"
        }
      ],
      "source": [
        "bool(10>5)"
      ]
    },
    {
      "cell_type": "code",
      "execution_count": null,
      "metadata": {
        "colab": {
          "base_uri": "https://localhost:8080/"
        },
        "id": "lBkwtnqBHUQ_",
        "outputId": "021d78f9-dab4-4bee-d01f-4f474a0042b4"
      },
      "outputs": [
        {
          "data": {
            "text/plain": [
              "False"
            ]
          },
          "execution_count": 62,
          "metadata": {},
          "output_type": "execute_result"
        }
      ],
      "source": [
        "bool(2<1)"
      ]
    },
    {
      "cell_type": "markdown",
      "metadata": {
        "id": "_5XWFMGkH2hB"
      },
      "source": [
        "project 02"
      ]
    },
    {
      "cell_type": "code",
      "execution_count": null,
      "metadata": {
        "colab": {
          "base_uri": "https://localhost:8080/"
        },
        "id": "7ysTIJ0cJy0p",
        "outputId": "cf89556f-6272-44fd-d0a2-a565a1e35bdd"
      },
      "outputs": [
        {
          "data": {
            "text/plain": [
              "7.199999999999999"
            ]
          },
          "execution_count": 68,
          "metadata": {},
          "output_type": "execute_result"
        }
      ],
      "source": [
        "kg=3\n",
        "lbs=kg*2.4\n",
        "lbs"
      ]
    },
    {
      "cell_type": "code",
      "execution_count": null,
      "metadata": {
        "colab": {
          "base_uri": "https://localhost:8080/"
        },
        "id": "yIND7hOEKEat",
        "outputId": "ce55a8f2-b95b-4c52-a859-90f296c9ca28"
      },
      "outputs": [
        {
          "data": {
            "text/plain": [
              "12.56"
            ]
          },
          "execution_count": 70,
          "metadata": {},
          "output_type": "execute_result"
        }
      ],
      "source": [
        "r=2\n",
        "pi=3.14\n",
        "c=2*pi*r\n",
        "c"
      ]
    },
    {
      "cell_type": "code",
      "execution_count": null,
      "metadata": {
        "colab": {
          "base_uri": "https://localhost:8080/"
        },
        "id": "oM4E3Z1KKazf",
        "outputId": "c389a2a2-5e49-423c-d14e-4f400772d753"
      },
      "outputs": [
        {
          "name": "stdout",
          "output_type": "stream",
          "text": [
            "Enter radius= 3.12\n"
          ]
        },
        {
          "data": {
            "text/plain": [
              "19.593600000000002"
            ]
          },
          "execution_count": 89,
          "metadata": {},
          "output_type": "execute_result"
        }
      ],
      "source": [
        "r=float(input(\"Enter radius= \"))\n",
        "pi=3.14\n",
        "c=2*pi*r\n",
        "c"
      ]
    },
    {
      "cell_type": "code",
      "execution_count": null,
      "metadata": {
        "colab": {
          "base_uri": "https://localhost:8080/"
        },
        "id": "UVlWFeVSxV2m",
        "outputId": "ad93f048-4671-4606-973c-f50537366c48"
      },
      "outputs": [
        {
          "name": "stdout",
          "output_type": "stream",
          "text": [
            "enter no=2\n"
          ]
        },
        {
          "data": {
            "text/plain": [
              "4.0"
            ]
          },
          "execution_count": 2,
          "metadata": {},
          "output_type": "execute_result"
        }
      ],
      "source": [
        "number=float(input(\"enter no=\"))\n",
        "number=number*3\n",
        "number=number+6\n",
        "number=number/3\n",
        "number"
      ]
    },
    {
      "cell_type": "markdown",
      "metadata": {
        "id": "FrdXtWXj-X6y"
      },
      "source": [
        "\\\\\\\\\\Lec03\\\\\\\\\\"
      ]
    },
    {
      "cell_type": "code",
      "execution_count": null,
      "metadata": {
        "colab": {
          "base_uri": "https://localhost:8080/"
        },
        "id": "3kDyDSJC-dej",
        "outputId": "07af348e-fb54-4949-a087-7e6d23d6bc65"
      },
      "outputs": [
        {
          "name": "stdout",
          "output_type": "stream",
          "text": [
            "what is you name?vini\n",
            "vini\n"
          ]
        }
      ],
      "source": [
        "Name=input(\"what is you name?\")\n",
        "print(Name)"
      ]
    },
    {
      "cell_type": "code",
      "execution_count": null,
      "metadata": {
        "colab": {
          "base_uri": "https://localhost:8080/"
        },
        "id": "SZUPH4UH_Sdo",
        "outputId": "94e17b85-4ce0-465b-c753-30b27827a3d5"
      },
      "outputs": [
        {
          "name": "stdout",
          "output_type": "stream",
          "text": [
            "what is your age?15\n",
            "what is your sister's age?18\n",
            "your sister is 3 yr older than you.\n"
          ]
        }
      ],
      "source": [
        "Age=input(\"what is your age?\")\n",
        "Age=int(Age)\n",
        "sisterAge=input(\"what is your sister's age?\")\n",
        "sisterAge=int(sisterAge)\n",
        "print(f\"your sister is {sisterAge - Age} yr older than you.\")\n"
      ]
    },
    {
      "cell_type": "code",
      "execution_count": null,
      "metadata": {
        "colab": {
          "base_uri": "https://localhost:8080/"
        },
        "id": "nKswW6rpE2aw",
        "outputId": "5d34d0b5-7f11-451c-867e-d16b005adc3e"
      },
      "outputs": [
        {
          "name": "stdout",
          "output_type": "stream",
          "text": [
            "what is your age?3\n",
            "what is sisterage?7\n",
            "your sister is 4yr older than you\n"
          ]
        }
      ],
      "source": [
        "Age=int(input(\"what is your age?\"))\n",
        "sisterage=int(input(\"what is sisterage?\"))\n",
        "print(f\"your sister is {sisterage-Age}yr older than you\")"
      ]
    },
    {
      "cell_type": "code",
      "execution_count": null,
      "metadata": {
        "colab": {
          "base_uri": "https://localhost:8080/"
        },
        "id": "u4JzGgQKg6Pa",
        "outputId": "87ac11d4-58ca-4c8c-c706-cdfc4efcb068"
      },
      "outputs": [
        {
          "name": "stdout",
          "output_type": "stream",
          "text": [
            "a=2\n",
            "b=4\n",
            "a*b=8\n"
          ]
        }
      ],
      "source": [
        "a=int(input(\"a=\"))\n",
        "b=int(input(\"b=\"))\n",
        "print(f\"a*b={a*b}\")"
      ]
    },
    {
      "cell_type": "code",
      "execution_count": null,
      "metadata": {
        "colab": {
          "base_uri": "https://localhost:8080/"
        },
        "id": "m0I3DWuHmGzT",
        "outputId": "7bb3ede0-d1af-4fe9-ae20-ef00718b9ae9"
      },
      "outputs": [
        {
          "name": "stdout",
          "output_type": "stream",
          "text": [
            "price=Rs48\n",
            "%tip=2.7\n",
            "tip_amount is1.3\n"
          ]
        }
      ],
      "source": [
        "Price=float(input(\"price=Rs\"))\n",
        "percent_tip=float(input(\"%tip=\"))\n",
        "tip=Price*percent_tip/100\n",
        "tip=round(tip, 1)\n",
        "print(f\"tip_amount is{tip}\")"
      ]
    },
    {
      "cell_type": "markdown",
      "metadata": {
        "id": "rF7e39uCwYSu"
      },
      "source": [
        "\\\\\\\\\\LEC04\\\\\\\\\\\\"
      ]
    },
    {
      "cell_type": "code",
      "execution_count": null,
      "metadata": {
        "colab": {
          "base_uri": "https://localhost:8080/"
        },
        "id": "PO0KK309wfsg",
        "outputId": "22a3a182-43ed-41d0-959f-2d167fb565b6"
      },
      "outputs": [
        {
          "name": "stdout",
          "output_type": "stream",
          "text": [
            "a=10\n",
            "b=10\n",
            "a=b\n"
          ]
        }
      ],
      "source": [
        "a=int(input(\"a=\"))\n",
        "b=int(input(\"b=\"))\n",
        "if a==b:\n",
        "  print(\"a=b\")\n",
        "else:\n",
        "  print(\"a is not equal to b\")\n",
        "\n"
      ]
    },
    {
      "cell_type": "code",
      "execution_count": null,
      "metadata": {
        "colab": {
          "base_uri": "https://localhost:8080/"
        },
        "id": "ibgE5qgx_8_F",
        "outputId": "2b46bb19-b005-47b8-8745-2574926f64a6"
      },
      "outputs": [
        {
          "name": "stdout",
          "output_type": "stream",
          "text": [
            "a=23\n",
            "b=34\n",
            "a<b\n"
          ]
        }
      ],
      "source": [
        "a=int(input(\"a=\"))\n",
        "b=int(input(\"b=\"))\n",
        "if a==b:\n",
        "  print(\"a==b\")\n",
        "elif a>b:\n",
        "  print(\"a>b\")\n",
        "else:\n",
        "  print(\"a<b\")"
      ]
    },
    {
      "cell_type": "code",
      "execution_count": null,
      "metadata": {
        "colab": {
          "base_uri": "https://localhost:8080/"
        },
        "id": "Pb20NifYHeW_",
        "outputId": "e454f9d9-fc3b-4e2d-94be-ce3360d0babe"
      },
      "outputs": [
        {
          "name": "stdout",
          "output_type": "stream",
          "text": [
            "a=10\n",
            "b=20\n",
            "a is not equal to b\n"
          ]
        }
      ],
      "source": [
        "a=int(input(\"a=\"))\n",
        "b=int(input(\"b=\"))\n",
        "if a!=b:\n",
        "  print(\"a is not equal to b\")\n",
        "else:\n",
        "  print(\"a=b\")"
      ]
    },
    {
      "cell_type": "code",
      "execution_count": null,
      "metadata": {
        "colab": {
          "base_uri": "https://localhost:8080/"
        },
        "id": "Ka5QAQU6T_n9",
        "outputId": "b0a427f9-447e-40cf-dd62-f1fe9592c5b3"
      },
      "outputs": [
        {
          "name": "stdout",
          "output_type": "stream",
          "text": [
            "what is car price?= 10000\n",
            "what is your gender:(M/F)= f\n",
            "Female\n",
            "what is your cartype(sport/non_sport): sport\n",
            "you have sport car\n",
            "you are eligible for insurance amount Rs2100.0\n"
          ]
        }
      ],
      "source": [
        "Car_price=input(\"what is car price?= \")\n",
        "Car_price=int(Car_price)\n",
        "gender=input(\"what is your gender:(M/F)= \")\n",
        "gender=gender.upper()\n",
        "if gender==\"M\":\n",
        "  print(\"Male\")\n",
        "  Age=input(\"what is your age?\")\n",
        "  Age=int(Age)\n",
        "  if Age>=26:\n",
        "    print(\"you are above or equal to 26yr\")\n",
        "    percentage=23\n",
        "    insurance_amount=Car_price*percentage/100\n",
        "    print(f\"you are eligible for insurance amount Rs{insurance_amount}\")\n",
        "  else:\n",
        "    print(\"you are below 26 yr\")\n",
        "    percentage=9\n",
        "    insurance_amount=Car_price*percentage/100\n",
        "    print(f\"you are eligible for insurance amount Rs{insurance_amount}\")\n",
        "elif gender==\"F\":\n",
        "  print(\"Female\")\n",
        "  car_type=input(\"what is your cartype(sport/non_sport): \")\n",
        "  car_type=car_type.upper()\n",
        "  if car_type==\"SPORT\":\n",
        "     print(\"you have sport car\")\n",
        "     percentage=21\n",
        "     insurance_amount=Car_price*percentage/100\n",
        "     print(f\"you are eligible for insurance amount Rs{insurance_amount}\")\n",
        "  else:\n",
        "     print(\"you have non sport car\")\n",
        "     percentage=10\n",
        "     insurance_amount=Car_price*percentage/100\n",
        "     print(f\"you are eligible for insurance amount Rs{insurance_amount}\")      \n",
        "else:\n",
        "  print(\"wrong format entered\")\n",
        "\n",
        "\n",
        "\n",
        "   "
      ]
    },
    {
      "cell_type": "code",
      "execution_count": null,
      "metadata": {
        "colab": {
          "base_uri": "https://localhost:8080/"
        },
        "id": "WKwkm9AezcPA",
        "outputId": "8b2c6340-20b4-4562-8041-ec0cd338a89c"
      },
      "outputs": [
        {
          "name": "stdout",
          "output_type": "stream",
          "text": [
            "what is car price?= 76979\n",
            "what is your gender:(M/F)= M\n",
            "Male\n",
            "what is your age?43\n",
            "you are above or equal to 26yr\n",
            "you are eligible for insurance amount Rs17705.17\n"
          ]
        }
      ],
      "source": [
        "Car_price=input(\"what is car price?= \")\n",
        "Car_price=int(Car_price)\n",
        "gender=input(\"what is your gender:(M/F)= \")\n",
        "gender=gender.upper()\n",
        "if gender==\"M\":\n",
        "  print(\"Male\")\n",
        "  Age=input(\"what is your age?\")\n",
        "  Age=int(Age)\n",
        "\n",
        "  if Age>=26:\n",
        "    print(\"you are above or equal to 26yr\")\n",
        "    percentage=23\n",
        "    \n",
        "  else:\n",
        "    print(\"you are below 26 yr\")\n",
        "    percentage=9\n",
        "  insurance_amount=Car_price*percentage/100\n",
        "  print(f\"you are eligible for insurance amount Rs{insurance_amount}\") \n",
        "elif gender==\"F\":\n",
        "  print(\"Female\")\n",
        "  car_type=input(\"what is your cartype(sport/non_sport): \")\n",
        "  car_type=car_type.upper()\n",
        "  if car_type==\"SPORT\":\n",
        "    print(\"you have sport car\")\n",
        "    percentage=21\n",
        "  else:\n",
        "    print(\"you have non sport car\")\n",
        "    percentage=10\n",
        "  insurance_amount=Car_price*percentage/100\n",
        "  print(f\"you are eligible for insurance amount Rs{ insurance_amount}\")\n",
        "    \n",
        "else:\n",
        "  print(\"wrong format entered\")"
      ]
    },
    {
      "cell_type": "code",
      "execution_count": null,
      "metadata": {
        "id": "rfgesYQyNmsy"
      },
      "outputs": [],
      "source": [
        "import random"
      ]
    },
    {
      "cell_type": "markdown",
      "metadata": {
        "id": "b7lqROmzCFAI"
      },
      "source": [
        "/////project//////"
      ]
    },
    {
      "cell_type": "code",
      "execution_count": null,
      "metadata": {
        "colab": {
          "base_uri": "https://localhost:8080/"
        },
        "id": "hHumVZw1LTRn",
        "outputId": "6eb25bed-1a1b-453e-b4a4-b677bd2ba2d5"
      },
      "outputs": [
        {
          "name": "stdout",
          "output_type": "stream",
          "text": [
            "Enter choice:1:scissor, 2:Paper, 3:Rock\n",
            "choice:scissor/Paper/Rock:Rock\n",
            "computer choice: Paper\n",
            "you win\n"
          ]
        }
      ],
      "source": [
        "print(\"Enter choice:1:scissor, 2:Paper, 3:Rock\")\n",
        "a = ['scissor', 'Paper','Rock']\n",
        "choice=input(\"choice:scissor/Paper/Rock:\")\n",
        "\n",
        "computer_choice = random.choice(a)\n",
        "print(f\"computer choice: {computer_choice}\")\n",
        "\n",
        "if choice==computer_choice:\n",
        "  print(\"Draw\")\n",
        "elif choice=='scissor':\n",
        "  if computer_choice=='Rock':\n",
        "    print(\"computer win\")\n",
        "  else:\n",
        "    print(\"you win\")\n",
        "elif choice=='Paper':\n",
        "  if computer_choice=='Rock':\n",
        "    print(\"you win\")\n",
        "  else:\n",
        "    print(\"computer win\")\n",
        "elif choice=='Rock':\n",
        "  if computer_choice=='scissor':\n",
        "    print(\"computer win\")\n",
        "  else:\n",
        "    print(\"you win\")\n"
      ]
    },
    {
      "cell_type": "markdown",
      "metadata": {
        "id": "TXN4XmJwU4fS"
      },
      "source": [
        "/////Lec05/////"
      ]
    },
    {
      "cell_type": "code",
      "execution_count": null,
      "metadata": {
        "colab": {
          "base_uri": "https://localhost:8080/"
        },
        "id": "aUxIYYSgSoqr",
        "outputId": "3c33f6a5-ffd3-4cca-849f-5acef63caf5e"
      },
      "outputs": [
        {
          "data": {
            "text/plain": [
              "['apple', 'orange', 'banana']"
            ]
          },
          "execution_count": 32,
          "metadata": {},
          "output_type": "execute_result"
        }
      ],
      "source": [
        "my_list=['apple','orange','banana']\n",
        "my_list"
      ]
    },
    {
      "cell_type": "code",
      "execution_count": null,
      "metadata": {
        "colab": {
          "base_uri": "https://localhost:8080/",
          "height": 35
        },
        "id": "E_z8AYQyTwmQ",
        "outputId": "98d11d7f-1da5-45fd-d40a-052fae2757f5"
      },
      "outputs": [
        {
          "data": {
            "application/vnd.google.colaboratory.intrinsic+json": {
              "type": "string"
            },
            "text/plain": [
              "'banana'"
            ]
          },
          "execution_count": 9,
          "metadata": {},
          "output_type": "execute_result"
        }
      ],
      "source": [
        "my_list[0]"
      ]
    },
    {
      "cell_type": "code",
      "execution_count": null,
      "metadata": {
        "colab": {
          "base_uri": "https://localhost:8080/",
          "height": 35
        },
        "id": "Xj27egrzUY5I",
        "outputId": "0cfe5f3b-7a59-464b-bf53-f3d396b1937d"
      },
      "outputs": [
        {
          "data": {
            "application/vnd.google.colaboratory.intrinsic+json": {
              "type": "string"
            },
            "text/plain": [
              "'orange'"
            ]
          },
          "execution_count": 10,
          "metadata": {},
          "output_type": "execute_result"
        }
      ],
      "source": [
        "my_list[2]"
      ]
    },
    {
      "cell_type": "code",
      "execution_count": null,
      "metadata": {
        "colab": {
          "base_uri": "https://localhost:8080/",
          "height": 35
        },
        "id": "tdbMqarvUgnM",
        "outputId": "0b890914-7376-4c76-c960-cf33fef0e128"
      },
      "outputs": [
        {
          "data": {
            "application/vnd.google.colaboratory.intrinsic+json": {
              "type": "string"
            },
            "text/plain": [
              "'apple'"
            ]
          },
          "execution_count": 11,
          "metadata": {},
          "output_type": "execute_result"
        }
      ],
      "source": [
        "my_list[-3]"
      ]
    },
    {
      "cell_type": "code",
      "execution_count": null,
      "metadata": {
        "colab": {
          "base_uri": "https://localhost:8080/"
        },
        "id": "_D55gn5EUnwx",
        "outputId": "85ca9eae-549e-4082-bcdf-e00d550e7b78"
      },
      "outputs": [
        {
          "data": {
            "text/plain": [
              "('apple', 'orange')"
            ]
          },
          "execution_count": 13,
          "metadata": {},
          "output_type": "execute_result"
        }
      ],
      "source": [
        "my_list[-3], my_list[-1]"
      ]
    },
    {
      "cell_type": "code",
      "execution_count": null,
      "metadata": {
        "colab": {
          "base_uri": "https://localhost:8080/"
        },
        "id": "zrDkDgrKVhXI",
        "outputId": "526edb51-49c2-40ce-c310-db1fc6190de9"
      },
      "outputs": [
        {
          "name": "stdout",
          "output_type": "stream",
          "text": [
            "['apple', 'orange', 'banana']\n",
            "banana\n",
            "['apple', 'orange']\n",
            "['apple', 'orange', 'banana']\n"
          ]
        }
      ],
      "source": [
        "my_list=['apple','orange','banana']\n",
        "print(my_list)\n",
        "print(my_list.pop())\n",
        "print(my_list)\n",
        "my_list.append(\"banana\")\n",
        "print(my_list)\n"
      ]
    },
    {
      "cell_type": "code",
      "execution_count": null,
      "metadata": {
        "colab": {
          "base_uri": "https://localhost:8080/"
        },
        "id": "cxzuTRzlbuVy",
        "outputId": "ffba64b4-c4cb-468f-e0d9-117f14dd4c2a"
      },
      "outputs": [
        {
          "data": {
            "text/plain": [
              "['apple', 'orange', 'banana', 'raipur', 'raigarh', 'dhamtari']"
            ]
          },
          "execution_count": 4,
          "metadata": {},
          "output_type": "execute_result"
        }
      ],
      "source": [
        "another_list=[\"raipur\",\"raigarh\",\"dhamtari\"]\n",
        "my_list+another_list"
      ]
    },
    {
      "cell_type": "code",
      "execution_count": null,
      "metadata": {
        "colab": {
          "base_uri": "https://localhost:8080/",
          "height": 35
        },
        "id": "6eiL5xUuo0H8",
        "outputId": "c61a8cc5-28ac-467b-9fd2-37eadb61cc69"
      },
      "outputs": [
        {
          "data": {
            "application/vnd.google.colaboratory.intrinsic+json": {
              "type": "string"
            },
            "text/plain": [
              "'raipur raigarh dhamtari'"
            ]
          },
          "execution_count": 6,
          "metadata": {},
          "output_type": "execute_result"
        }
      ],
      "source": [
        "\" \".join(another_list)"
      ]
    },
    {
      "cell_type": "code",
      "execution_count": null,
      "metadata": {
        "id": "184qgA0crQXT"
      },
      "outputs": [],
      "source": [
        "import random"
      ]
    },
    {
      "cell_type": "code",
      "execution_count": null,
      "metadata": {
        "colab": {
          "base_uri": "https://localhost:8080/"
        },
        "id": "ME4XVf_bqsRe",
        "outputId": "a7d4a543-cc94-4202-c389-5de6afda0497"
      },
      "outputs": [
        {
          "data": {
            "text/plain": [
              "['i', 'r', 'r', 'a', 'a', 'g', 'h']"
            ]
          },
          "execution_count": 15,
          "metadata": {},
          "output_type": "execute_result"
        }
      ],
      "source": [
        "word='raigarh'\n",
        "len(word)\n",
        "random.sample(word,len(word))\n"
      ]
    },
    {
      "cell_type": "code",
      "execution_count": null,
      "metadata": {
        "colab": {
          "base_uri": "https://localhost:8080/",
          "height": 35
        },
        "id": "rzV6FeiSr4QK",
        "outputId": "5dfe6c84-3df6-4ae4-bda0-bfba3abe0591"
      },
      "outputs": [
        {
          "data": {
            "application/vnd.google.colaboratory.intrinsic+json": {
              "type": "string"
            },
            "text/plain": [
              "'r g a i r a h'"
            ]
          },
          "execution_count": 16,
          "metadata": {},
          "output_type": "execute_result"
        }
      ],
      "source": [
        "' '.join(random.sample(word,len(word)))"
      ]
    },
    {
      "cell_type": "code",
      "execution_count": null,
      "metadata": {
        "colab": {
          "base_uri": "https://localhost:8080/"
        },
        "id": "Jt4upTH2sJa-",
        "outputId": "000c6d30-34fc-4da8-9ae4-000fac651818"
      },
      "outputs": [
        {
          "data": {
            "text/plain": [
              "14"
            ]
          },
          "execution_count": 20,
          "metadata": {},
          "output_type": "execute_result"
        }
      ],
      "source": [
        "number=[2, 3, 5,4]\n",
        "max(number)\n",
        "min(number)\n",
        "sum(number)"
      ]
    },
    {
      "cell_type": "code",
      "execution_count": null,
      "metadata": {
        "colab": {
          "base_uri": "https://localhost:8080/"
        },
        "id": "NENlyjE9zo47",
        "outputId": "4a977724-ab76-4821-d151-b034a1390367"
      },
      "outputs": [
        {
          "data": {
            "text/plain": [
              "8"
            ]
          },
          "execution_count": 21,
          "metadata": {},
          "output_type": "execute_result"
        }
      ],
      "source": [
        "max(5,7,8)"
      ]
    },
    {
      "cell_type": "code",
      "execution_count": null,
      "metadata": {
        "colab": {
          "base_uri": "https://localhost:8080/"
        },
        "id": "RYkccJcn54dT",
        "outputId": "ee009ce1-fced-4f4b-ae37-0b6f9ff41732"
      },
      "outputs": [
        {
          "data": {
            "text/plain": [
              "['i', 't', 'a', 'i', 'n', 'v']"
            ]
          },
          "execution_count": 30,
          "metadata": {},
          "output_type": "execute_result"
        }
      ],
      "source": [
        "w=\"vinita\"\n",
        "random.sample(w,len(w))"
      ]
    },
    {
      "cell_type": "code",
      "execution_count": null,
      "metadata": {
        "colab": {
          "base_uri": "https://localhost:8080/"
        },
        "id": "Up-2VSVH66Jv",
        "outputId": "2cf9dc07-78a8-4947-8656-eae5fc006930"
      },
      "outputs": [
        {
          "name": "stdout",
          "output_type": "stream",
          "text": [
            "['apple', 'orange', 'banana']\n"
          ]
        }
      ],
      "source": [
        "random.shuffle(my_list)\n",
        "print(my_list)"
      ]
    },
    {
      "cell_type": "markdown",
      "metadata": {
        "id": "9NwMGFf_B7tK"
      },
      "source": [
        "/////project 06/////"
      ]
    },
    {
      "cell_type": "code",
      "execution_count": null,
      "metadata": {
        "colab": {
          "base_uri": "https://localhost:8080/"
        },
        "id": "kSBtCfCo352q",
        "outputId": "b81a212a-7c72-456c-ceaf-a73ee9e514eb"
      },
      "outputs": [
        {
          "name": "stdout",
          "output_type": "stream",
          "text": [
            "jumble_word is afetrh\n",
            "guess your word?: vbnm\n",
            "incorrect guess,correct is father\n"
          ]
        }
      ],
      "source": [
        "words=['father','enterprise','science','programming','resistance','fiction','condition','reverse','computer','python']\n",
        "input_word=random.choice(words)\n",
        "jumble_word=''.join(random.sample(input_word,len(input_word)))\n",
        "print(f\"jumble_word is {jumble_word}\")\n",
        "guess=input(\"guess your word?: \")\n",
        "if guess==input_word:\n",
        "  print('correct guess')\n",
        "else:\n",
        "  print(f\"incorrect guess,correct is {input_word}\")"
      ]
    },
    {
      "cell_type": "code",
      "execution_count": null,
      "metadata": {
        "colab": {
          "base_uri": "https://localhost:8080/"
        },
        "id": "hfv3qK_iQ1P7",
        "outputId": "85e534e0-bb15-4ae7-c599-a8bf85b68888"
      },
      "outputs": [
        {
          "name": "stdout",
          "output_type": "stream",
          "text": [
            "first\n",
            "second\n",
            "third\n"
          ]
        }
      ],
      "source": [
        "my_list = ['first', 'second', 'third']\n",
        "for item in my_list:\n",
        " print(item)"
      ]
    },
    {
      "cell_type": "code",
      "execution_count": null,
      "metadata": {
        "colab": {
          "base_uri": "https://localhost:8080/"
        },
        "id": "Dp0VyJCFokV8",
        "outputId": "7dca04af-ed10-4667-e144-c37cb6f73543"
      },
      "outputs": [
        {
          "name": "stdout",
          "output_type": "stream",
          "text": [
            "v\n",
            "inside loop\n",
            "i\n",
            "inside loop\n",
            "n\n",
            "inside loop\n",
            "i\n",
            "inside loop\n",
            "t\n",
            "inside loop\n",
            "a\n",
            "inside loop\n",
            "outside loop\n"
          ]
        }
      ],
      "source": [
        "N=\"vinita\"\n",
        "for c in N:\n",
        "  print(c)\n",
        "  print(\"inside loop\")\n",
        "print(\"outside loop\")"
      ]
    },
    {
      "cell_type": "code",
      "execution_count": null,
      "metadata": {
        "colab": {
          "base_uri": "https://localhost:8080/"
        },
        "id": "sZgpXmVrajN8",
        "outputId": "95c4a1e4-6873-4a34-b163-f33bf7759340"
      },
      "outputs": [
        {
          "name": "stdout",
          "output_type": "stream",
          "text": [
            "0\n",
            "1\n",
            "2\n",
            "3\n"
          ]
        }
      ],
      "source": [
        "for i in range(4):\n",
        "  print(i)"
      ]
    },
    {
      "cell_type": "code",
      "execution_count": null,
      "metadata": {
        "colab": {
          "base_uri": "https://localhost:8080/"
        },
        "id": "bkhg4WaPbTyz",
        "outputId": "ea16b5e4-ce0c-4334-ba05-cb891d9d8df2"
      },
      "outputs": [
        {
          "name": "stdout",
          "output_type": "stream",
          "text": [
            "2\n",
            "3\n"
          ]
        }
      ],
      "source": [
        "for i in range(2,4):\n",
        "  print(i)"
      ]
    },
    {
      "cell_type": "code",
      "execution_count": null,
      "metadata": {
        "colab": {
          "base_uri": "https://localhost:8080/"
        },
        "id": "FhU2dmx9cETv",
        "outputId": "9218906b-f501-40b7-867a-4c051e617ad0"
      },
      "outputs": [
        {
          "name": "stdout",
          "output_type": "stream",
          "text": [
            "0 first\n",
            "1 second\n",
            "2 third\n"
          ]
        }
      ],
      "source": [
        "for i in range(len(my_list)):\n",
        "  print(i,my_list[i])"
      ]
    },
    {
      "cell_type": "code",
      "execution_count": null,
      "metadata": {
        "colab": {
          "base_uri": "https://localhost:8080/"
        },
        "id": "4oMl5gA8nbX4",
        "outputId": "019188c6-2d9f-4825-a4e5-93d42e3b2737"
      },
      "outputs": [
        {
          "name": "stdout",
          "output_type": "stream",
          "text": [
            "input value of i=0\n",
            "1\n",
            "2\n",
            "3\n",
            "4\n",
            "5\n",
            "6\n",
            "7\n",
            "8\n",
            "9\n",
            "10\n",
            "11\n",
            "12\n",
            "13\n",
            "14\n",
            "15\n",
            "16\n",
            "17\n",
            "18\n",
            "19\n",
            "20\n",
            "21\n",
            "22\n",
            "23\n",
            "24\n",
            "25\n",
            "26\n",
            "27\n",
            "28\n",
            "29\n",
            "30\n",
            "31\n",
            "32\n",
            "33\n",
            "34\n",
            "35\n",
            "36\n",
            "37\n",
            "38\n",
            "39\n",
            "40\n",
            "41\n",
            "42\n",
            "43\n",
            "44\n",
            "45\n",
            "46\n",
            "47\n",
            "48\n",
            "49\n",
            "50\n",
            "51\n",
            "52\n",
            "53\n",
            "54\n",
            "55\n",
            "56\n",
            "57\n",
            "58\n",
            "59\n",
            "60\n",
            "61\n",
            "62\n",
            "63\n",
            "64\n",
            "65\n",
            "66\n",
            "67\n",
            "68\n",
            "69\n",
            "70\n",
            "71\n",
            "72\n",
            "73\n",
            "74\n",
            "75\n",
            "76\n",
            "77\n",
            "78\n",
            "79\n",
            "80\n",
            "81\n",
            "82\n",
            "83\n",
            "84\n",
            "85\n",
            "86\n",
            "87\n",
            "88\n",
            "89\n",
            "90\n",
            "91\n",
            "92\n",
            "93\n",
            "94\n",
            "95\n",
            "96\n",
            "97\n",
            "98\n",
            "99\n",
            "100\n"
          ]
        }
      ],
      "source": [
        "i=input('input value of i=')\n",
        "i=int(i)\n",
        "while i>=0 and i<100:\n",
        "  i=i+1\n",
        "  print(i)"
      ]
    },
    {
      "cell_type": "code",
      "execution_count": null,
      "metadata": {
        "id": "uBsqg6OYlPCk"
      },
      "outputs": [],
      "source": [
        "s=\"abc\"\n",
        "c=\"d\"\n",
        "if c in s:\n",
        "  print(\"yes c is in s\")"
      ]
    },
    {
      "cell_type": "code",
      "execution_count": null,
      "metadata": {
        "colab": {
          "base_uri": "https://localhost:8080/"
        },
        "id": "T-0tBNMFqzZB",
        "outputId": "f2fba459-e0fb-4da2-fc41-b61965b895c0"
      },
      "outputs": [
        {
          "name": "stdout",
          "output_type": "stream",
          "text": [
            "No c is not in s\n"
          ]
        }
      ],
      "source": [
        "if c not in s:\n",
        "  print(\"No c is not in s\")"
      ]
    },
    {
      "cell_type": "code",
      "execution_count": null,
      "metadata": {
        "colab": {
          "base_uri": "https://localhost:8080/"
        },
        "id": "RtxtClwl3-76",
        "outputId": "e3852aa6-6c0c-4a60-ca42-ccb5c0c2d4df"
      },
      "outputs": [
        {
          "name": "stdout",
          "output_type": "stream",
          "text": [
            "awesom\n"
          ]
        }
      ],
      "source": [
        "a=10\n",
        "b=12\n",
        "c=15\n",
        "if a<b and b<c:\n",
        "  print(\"awesom\")"
      ]
    },
    {
      "cell_type": "code",
      "execution_count": null,
      "metadata": {
        "colab": {
          "base_uri": "https://localhost:8080/"
        },
        "id": "lX-XB7Bi4PIA",
        "outputId": "4f08e4dc-c7a2-4b9a-b5d3-eb9abb3940e8"
      },
      "outputs": [
        {
          "name": "stdout",
          "output_type": "stream",
          "text": [
            "awesom\n"
          ]
        }
      ],
      "source": [
        "a=10\n",
        "b=12\n",
        "c=4\n",
        "if a<b or b<c:\n",
        "  print(\"awesom\")"
      ]
    },
    {
      "cell_type": "code",
      "execution_count": null,
      "metadata": {
        "colab": {
          "background_save": true,
          "base_uri": "https://localhost:8080/"
        },
        "id": "rgFNVD7242Lg",
        "outputId": "cf876325-836c-4a8b-e1eb-186f31f0ccd9"
      },
      "outputs": [
        {
          "name": "stdout",
          "output_type": "stream",
          "text": [
            "['father', 'enterprise', 'science', 'programming', 'resistance', 'fiction', 'condition', 'reverse', 'computer', 'python']\n",
            "-turn left=9\n",
            "-turn left=8\n",
            "-turn left=7\n",
            "-"
          ]
        }
      ],
      "source": [
        "import random\n",
        "import string\n",
        "print(words)\n",
        "word=random.choice(words)\n",
        "turn=10\n",
        "while turn>0:\n",
        " guess_char=input(\"input guess char:\" )\n",
        " for c in word:\n",
        "  if guess_char in word:\n",
        "   print(guess_char,end='')\n",
        "  else:\n",
        "   print('-',end='')\n",
        "  input(guess_char)\n",
        "  turn=turn-1\n",
        "  print(f\"turn left={turn}\")\n",
        "\n"
      ]
    }
  ],
  "metadata": {
    "colab": {
      "provenance": []
    },
    "kernelspec": {
      "display_name": "Python 3",
      "name": "python3"
    },
    "language_info": {
      "name": "python"
    }
  },
  "nbformat": 4,
  "nbformat_minor": 0
}